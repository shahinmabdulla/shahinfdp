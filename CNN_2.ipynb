{
  "nbformat": 4,
  "nbformat_minor": 0,
  "metadata": {
    "colab": {
      "provenance": [],
      "mount_file_id": "10BSs-tK-wDCOMiaEIPBY-ZnfgdvhSudj",
      "authorship_tag": "ABX9TyMd9uyqmd9frz8mmT7ug4X6",
      "include_colab_link": true
    },
    "kernelspec": {
      "name": "python3",
      "display_name": "Python 3"
    },
    "language_info": {
      "name": "python"
    },
    "accelerator": "GPU",
    "gpuClass": "standard"
  },
  "cells": [
    {
      "cell_type": "markdown",
      "metadata": {
        "id": "view-in-github",
        "colab_type": "text"
      },
      "source": [
        "<a href=\"https://colab.research.google.com/github/shahinmabdulla/shahinfdp/blob/main/CNN_2.ipynb\" target=\"_parent\"><img src=\"https://colab.research.google.com/assets/colab-badge.svg\" alt=\"Open In Colab\"/></a>"
      ]
    },
    {
      "cell_type": "code",
      "execution_count": 1,
      "metadata": {
        "id": "Na0OWn5MDbx5"
      },
      "outputs": [],
      "source": [
        "import os"
      ]
    },
    {
      "cell_type": "code",
      "source": [
        "os.chdir('/content/drive/MyDrive/FDPAISETML')"
      ],
      "metadata": {
        "id": "EdOcqVUGE7GJ"
      },
      "execution_count": 2,
      "outputs": []
    },
    {
      "cell_type": "code",
      "source": [
        "pwd"
      ],
      "metadata": {
        "colab": {
          "base_uri": "https://localhost:8080/",
          "height": 35
        },
        "id": "oSjl5JkwFIdI",
        "outputId": "cce846aa-5167-49ad-8b55-69d40862b64b"
      },
      "execution_count": 3,
      "outputs": [
        {
          "output_type": "execute_result",
          "data": {
            "text/plain": [
              "'/content/drive/MyDrive/FDPAISETML'"
            ],
            "application/vnd.google.colaboratory.intrinsic+json": {
              "type": "string"
            }
          },
          "metadata": {},
          "execution_count": 3
        }
      ]
    },
    {
      "cell_type": "code",
      "source": [
        "import tensorflow as tf"
      ],
      "metadata": {
        "id": "_0tc_grrFUM_"
      },
      "execution_count": 4,
      "outputs": []
    },
    {
      "cell_type": "code",
      "source": [
        "from tensorflow import keras"
      ],
      "metadata": {
        "id": "nfF9L_LRFf6f"
      },
      "execution_count": 5,
      "outputs": []
    },
    {
      "cell_type": "code",
      "source": [
        "tf.random.set_seed(42)"
      ],
      "metadata": {
        "id": "vihxSixaFyyw"
      },
      "execution_count": 6,
      "outputs": []
    },
    {
      "cell_type": "code",
      "source": [
        "import numpy as np"
      ],
      "metadata": {
        "id": "jkV3zHs1F-AP"
      },
      "execution_count": 7,
      "outputs": []
    },
    {
      "cell_type": "code",
      "source": [
        "np.random.seed(42)\n"
      ],
      "metadata": {
        "id": "fR58qPe4GC9A"
      },
      "execution_count": 8,
      "outputs": []
    },
    {
      "cell_type": "code",
      "source": [
        "import matplotlib.pyplot as plt\n",
        "%matplotlib inline\n",
        "#display images on same screen\n",
        "import glob\n",
        "#to take files from drive\n",
        "import PIL\n",
        "from PIL import Image\n"
      ],
      "metadata": {
        "id": "AIQjnQJmGXaH"
      },
      "execution_count": 9,
      "outputs": []
    },
    {
      "cell_type": "code",
      "source": [
        "!unzip '/content/drive/MyDrive/fdpdataset/Flower_dataset.zip' -d  '/content/drive/MyDrive/FDPAISETML'"
      ],
      "metadata": {
        "colab": {
          "base_uri": "https://localhost:8080/"
        },
        "id": "SU0aIuhsHdr5",
        "outputId": "69928b86-1f33-4bd7-ed02-bedc34b676e0"
      },
      "execution_count": 10,
      "outputs": [
        {
          "output_type": "stream",
          "name": "stdout",
          "text": [
            "Archive:  /content/drive/MyDrive/fdpdataset/Flower_dataset.zip\n",
            "replace /content/drive/MyDrive/FDPAISETML/tiny_FR/daisy/100080576_f52e8ee070_n.jpg? [y]es, [n]o, [A]ll, [N]one, [r]ename: "
          ]
        }
      ]
    },
    {
      "cell_type": "code",
      "source": [
        "imgFiles= glob.glob(\"/content/drive/MyDrive/FDPAISETML/tiny_FR/*/*.jpg\")"
      ],
      "metadata": {
        "id": "1FZ3U6eIJgba"
      },
      "execution_count": 11,
      "outputs": []
    },
    {
      "cell_type": "code",
      "source": [
        "for items in imgFiles[:8]:\n",
        "  print(items)"
      ],
      "metadata": {
        "colab": {
          "base_uri": "https://localhost:8080/"
        },
        "id": "dgOV7WQMKBnJ",
        "outputId": "56a1a99d-2baa-4c44-ca01-2b903d3ff449"
      },
      "execution_count": 12,
      "outputs": [
        {
          "output_type": "stream",
          "name": "stdout",
          "text": [
            "/content/drive/MyDrive/FDPAISETML/tiny_FR/daisy/100080576_f52e8ee070_n.jpg\n",
            "/content/drive/MyDrive/FDPAISETML/tiny_FR/daisy/102841525_bd6628ae3c.jpg\n",
            "/content/drive/MyDrive/FDPAISETML/tiny_FR/daisy/1031799732_e7f4008c03.jpg\n",
            "/content/drive/MyDrive/FDPAISETML/tiny_FR/daisy/105806915_a9c13e2106_n.jpg\n",
            "/content/drive/MyDrive/FDPAISETML/tiny_FR/daisy/107592979_aaa9cdfe78_m.jpg\n",
            "/content/drive/MyDrive/FDPAISETML/tiny_FR/daisy/1140299375_3aa7024466.jpg\n",
            "/content/drive/MyDrive/FDPAISETML/tiny_FR/daisy/1150395827_6f94a5c6e4_n.jpg\n",
            "/content/drive/MyDrive/FDPAISETML/tiny_FR/daisy/11642632_1e7627a2cc.jpg\n"
          ]
        }
      ]
    },
    {
      "cell_type": "code",
      "source": [
        "print(len(imgFiles))"
      ],
      "metadata": {
        "colab": {
          "base_uri": "https://localhost:8080/"
        },
        "id": "jRi3aTsfKVlr",
        "outputId": "79e996aa-c871-4343-a408-620e6e6e279b"
      },
      "execution_count": 13,
      "outputs": [
        {
          "output_type": "stream",
          "name": "stdout",
          "text": [
            "500\n"
          ]
        }
      ]
    },
    {
      "cell_type": "code",
      "source": [
        "\n",
        "x=[]\n",
        "y=[]\n",
        "for fName in imgFiles:\n",
        "  #prepare the dataset and populate Xand Y\n",
        "  x_i=Image.open(fName)\n",
        "  x_i=x_i.resize((299,299))\n",
        "  x_i=np.array(x_i)/255  \n",
        "  x.append(x_i)\n",
        "  label=fName.split(\"/\")\n",
        "  y_i=label[6]\n",
        "  y.append(y_i)"
      ],
      "metadata": {
        "id": "QJEdQqS3K8xB"
      },
      "execution_count": 14,
      "outputs": []
    },
    {
      "cell_type": "code",
      "source": [
        "print(set(y))"
      ],
      "metadata": {
        "colab": {
          "base_uri": "https://localhost:8080/"
        },
        "id": "I8gG18nDPXOn",
        "outputId": "271ee0fa-8b85-4099-f2e1-3dc054faadaf"
      },
      "execution_count": 15,
      "outputs": [
        {
          "output_type": "stream",
          "name": "stdout",
          "text": [
            "{'daisy', 'tulip', 'dandelion', 'rose', 'sunflower'}\n"
          ]
        }
      ]
    },
    {
      "cell_type": "code",
      "source": [
        "from sklearn.preprocessing import  LabelEncoder\n",
        "# to label classes\n",
        "lEncoder=LabelEncoder()\n",
        "y=lEncoder.fit_transform(y)# to set different random numbers to each class\n",
        "print(y)\n",
        "print(set(y))"
      ],
      "metadata": {
        "colab": {
          "base_uri": "https://localhost:8080/"
        },
        "id": "uoXC5PgmP1y8",
        "outputId": "999acfe7-57d2-4b95-a324-d84a1b3a9a62"
      },
      "execution_count": 16,
      "outputs": [
        {
          "output_type": "stream",
          "name": "stdout",
          "text": [
            "[0 0 0 0 0 0 0 0 0 0 0 0 0 0 0 0 0 0 0 0 0 0 0 0 0 0 0 0 0 0 0 0 0 0 0 0 0\n",
            " 0 0 0 0 0 0 0 0 0 0 0 0 0 0 0 0 0 0 0 0 0 0 0 0 0 0 0 0 0 0 0 0 0 0 0 0 0\n",
            " 0 0 0 0 0 0 0 0 0 0 0 0 0 0 0 0 0 0 0 0 0 0 0 0 0 0 1 1 1 1 1 1 1 1 1 1 1\n",
            " 1 1 1 1 1 1 1 1 1 1 1 1 1 1 1 1 1 1 1 1 1 1 1 1 1 1 1 1 1 1 1 1 1 1 1 1 1\n",
            " 1 1 1 1 1 1 1 1 1 1 1 1 1 1 1 1 1 1 1 1 1 1 1 1 1 1 1 1 1 1 1 1 1 1 1 1 1\n",
            " 1 1 1 1 1 1 1 1 1 1 1 1 1 1 1 2 2 2 2 2 2 2 2 2 2 2 2 2 2 2 2 2 2 2 2 2 2\n",
            " 2 2 2 2 2 2 2 2 2 2 2 2 2 2 2 2 2 2 2 2 2 2 2 2 2 2 2 2 2 2 2 2 2 2 2 2 2\n",
            " 2 2 2 2 2 2 2 2 2 2 2 2 2 2 2 2 2 2 2 2 2 2 2 2 2 2 2 2 2 2 2 2 2 2 2 2 2\n",
            " 2 2 2 2 3 3 3 3 3 3 3 3 3 3 3 3 3 3 3 3 3 3 3 3 3 3 3 3 3 3 3 3 3 3 3 3 3\n",
            " 3 3 3 3 3 3 3 3 3 3 3 3 3 3 3 3 3 3 3 3 3 3 3 3 3 3 3 3 3 3 3 3 3 3 3 3 3\n",
            " 3 3 3 3 3 3 3 3 3 3 3 3 3 3 3 3 3 3 3 3 3 3 3 3 3 3 3 3 3 3 4 4 4 4 4 4 4\n",
            " 4 4 4 4 4 4 4 4 4 4 4 4 4 4 4 4 4 4 4 4 4 4 4 4 4 4 4 4 4 4 4 4 4 4 4 4 4\n",
            " 4 4 4 4 4 4 4 4 4 4 4 4 4 4 4 4 4 4 4 4 4 4 4 4 4 4 4 4 4 4 4 4 4 4 4 4 4\n",
            " 4 4 4 4 4 4 4 4 4 4 4 4 4 4 4 4 4 4 4]\n",
            "{0, 1, 2, 3, 4}\n"
          ]
        }
      ]
    },
    {
      "cell_type": "code",
      "source": [
        "print(lEncoder.classes_)#to find which number corresponds to which data"
      ],
      "metadata": {
        "colab": {
          "base_uri": "https://localhost:8080/"
        },
        "id": "LMJcYHAVQes9",
        "outputId": "fd4d666d-b9a0-4a88-fd0b-c91b299b4974"
      },
      "execution_count": 17,
      "outputs": [
        {
          "output_type": "stream",
          "name": "stdout",
          "text": [
            "['daisy' 'dandelion' 'rose' 'sunflower' 'tulip']\n"
          ]
        }
      ]
    },
    {
      "cell_type": "code",
      "source": [
        "x=np.array(x)\n",
        "y=np.array(y)\n",
        "print(x.shape)\n",
        "print(y.shape)\n"
      ],
      "metadata": {
        "colab": {
          "base_uri": "https://localhost:8080/"
        },
        "id": "kjCZ3ZN0RO2t",
        "outputId": "4364d62f-0def-4f22-99d2-a326995b5e78"
      },
      "execution_count": 19,
      "outputs": [
        {
          "output_type": "stream",
          "name": "stdout",
          "text": [
            "(500, 299, 299, 3)\n",
            "(500,)\n"
          ]
        }
      ]
    },
    {
      "cell_type": "code",
      "source": [
        "from sklearn.model_selection import train_test_split\n",
        "x_train,x_test,y_train,y_test=train_test_split(x,y,test_size=0.2,stratify=y,random_state=42)\n",
        "print(\"x_train_shape:{}\".format(x_train.shape))\n",
        "print(\"x_test_shape:{}\".format(x_train.shape))"
      ],
      "metadata": {
        "colab": {
          "base_uri": "https://localhost:8080/"
        },
        "id": "gtnE3H__V5m2",
        "outputId": "cc048596-ee7e-4d75-fee6-2b9f620bd5eb"
      },
      "execution_count": 21,
      "outputs": [
        {
          "output_type": "stream",
          "name": "stdout",
          "text": [
            "x_train_shape:(400, 299, 299, 3)\n",
            "x_test_shape:(400, 299, 299, 3)\n"
          ]
        }
      ]
    },
    {
      "cell_type": "code",
      "source": [
        "#manual standard scale the data\n",
        "#find mean and stan deviation of vtrain data and apply to test data\n",
        "mu=x_train.mean()\n",
        "std=x_train.std()\n",
        "x_train_std=(x_train-mu)/std#apply feature scaling to x train\n",
        "x_test_std=(x_test-mu)/std#apply feature scaling to y train\n"
      ],
      "metadata": {
        "id": "FPGpOCOcXEVI"
      },
      "execution_count": 24,
      "outputs": []
    },
    {
      "cell_type": "code",
      "source": [
        "# Create the network using Functional API metho\n",
        "input_ = keras.layers.Input(shape = x_train.shape[1:])\n",
        "# Construct the convolution based preprocessing part (feature extractor) \n",
        "x = keras.layers.Conv2D(filters=32, kernel_size=5, padding='same', activation='relu')(input_)#note input attached to end\n",
        "x = keras.layers.MaxPool2D(pool_size=2)(x)\n",
        "\n",
        "x = keras.layers.Conv2D(filters=64, kernel_size=3, padding='same', activation='relu')(x)\n",
        "x = keras.layers.MaxPool2D(pool_size=2)(x)\n",
        "\n",
        "# Construct the DNN classifier part\n",
        "\n",
        "x = keras.layers.Flatten()(x)\n",
        "x = keras.layers.Dense(units=1000, activation='relu')(x)\n",
        "x = keras.layers.Dense(units=100, activation='relu')(x)\n",
        "output_ = keras.layers.Dense(units=5, activation='softmax')(x)\n",
        "\n",
        "model_CNN = keras.models.Model(inputs=[input_], outputs=[output_])"
      ],
      "metadata": {
        "id": "D6WNlCU3ZQrE"
      },
      "execution_count": 26,
      "outputs": []
    },
    {
      "cell_type": "code",
      "source": [
        "model_CNN.summary()"
      ],
      "metadata": {
        "colab": {
          "base_uri": "https://localhost:8080/"
        },
        "id": "jCqj2TTXcmik",
        "outputId": "1839d06c-823d-4dae-f377-5251f04d759a"
      },
      "execution_count": 27,
      "outputs": [
        {
          "output_type": "stream",
          "name": "stdout",
          "text": [
            "Model: \"model\"\n",
            "_________________________________________________________________\n",
            " Layer (type)                Output Shape              Param #   \n",
            "=================================================================\n",
            " input_1 (InputLayer)        [(None, 299, 299, 3)]     0         \n",
            "                                                                 \n",
            " conv2d (Conv2D)             (None, 299, 299, 32)      2432      \n",
            "                                                                 \n",
            " max_pooling2d (MaxPooling2D  (None, 149, 149, 32)     0         \n",
            " )                                                               \n",
            "                                                                 \n",
            " conv2d_1 (Conv2D)           (None, 149, 149, 64)      18496     \n",
            "                                                                 \n",
            " max_pooling2d_1 (MaxPooling  (None, 74, 74, 64)       0         \n",
            " 2D)                                                             \n",
            "                                                                 \n",
            " flatten (Flatten)           (None, 350464)            0         \n",
            "                                                                 \n",
            " dense (Dense)               (None, 1000)              350465000 \n",
            "                                                                 \n",
            " dense_1 (Dense)             (None, 100)               100100    \n",
            "                                                                 \n",
            " dense_2 (Dense)             (None, 5)                 505       \n",
            "                                                                 \n",
            "=================================================================\n",
            "Total params: 350,586,533\n",
            "Trainable params: 350,586,533\n",
            "Non-trainable params: 0\n",
            "_________________________________________________________________\n"
          ]
        }
      ]
    },
    {
      "cell_type": "code",
      "source": [
        "#visualisation of model\n",
        "tf.keras.utils.plot_model(\n",
        "    model_CNN,\n",
        "    to_file='model_CNN.png',\n",
        "    show_shapes=True,\n",
        "    show_layer_names=True,\n",
        "    rankdir='TB',\n",
        "    expand_nested=False,\n",
        "    dpi=96\n",
        ")"
      ],
      "metadata": {
        "colab": {
          "base_uri": "https://localhost:8080/",
          "height": 976
        },
        "id": "Bhqo8cIqc7gp",
        "outputId": "f9371d1d-b33b-463f-8263-402ff7446562"
      },
      "execution_count": 31,
      "outputs": [
        {
          "output_type": "execute_result",
          "data": {
            "image/png": "[encoded data removed]",
            "text/plain": [
              "<IPython.core.display.Image object>"
            ]
          },
          "metadata": {},
          "execution_count": 31
        }
      ]
    },
    {
      "cell_type": "code",
      "source": [
        "# Compile the network with appropriate settings for loss, optimizer and metrics.\n",
        "model_CNN.compile(loss='sparse_categorical_crossentropy', \n",
        "                  optimizer='adam', \n",
        "                  metrics=['accuracy'])\n",
        "\n",
        "#Training the model. #history_CNN is a dictionary in which loss and accuracy is stored\n",
        "history_CNN = model_CNN.fit(x=x_train_std, \n",
        "                            y=y_train, \n",
        "                            epochs=25, \n",
        "                            validation_split=0.1, \n",
        "                            batch_size=32)\n",
        "\n",
        "#history_cnn (dictionary) captures the loss and accuracy in ech epoch and stores "
      ],
      "metadata": {
        "colab": {
          "base_uri": "https://localhost:8080/"
        },
        "id": "bpao3UqAdECx",
        "outputId": "3252570f-71e6-4c50-dac1-e473b9e3a4e7"
      },
      "execution_count": 32,
      "outputs": [
        {
          "output_type": "stream",
          "name": "stdout",
          "text": [
            "Epoch 1/25\n",
            "12/12 [==============================] - 3s 220ms/step - loss: 0.0407 - accuracy: 0.9833 - val_loss: 5.8669 - val_accuracy: 0.3500\n",
            "Epoch 2/25\n",
            "12/12 [==============================] - 2s 173ms/step - loss: 0.1098 - accuracy: 0.9722 - val_loss: 2.5401 - val_accuracy: 0.4500\n",
            "Epoch 3/25\n",
            "12/12 [==============================] - 2s 167ms/step - loss: 0.0487 - accuracy: 0.9806 - val_loss: 1.7154 - val_accuracy: 0.5000\n",
            "Epoch 4/25\n",
            "12/12 [==============================] - 2s 169ms/step - loss: 0.0079 - accuracy: 1.0000 - val_loss: 2.8785 - val_accuracy: 0.4250\n",
            "Epoch 5/25\n",
            "12/12 [==============================] - 2s 169ms/step - loss: 6.2604e-04 - accuracy: 1.0000 - val_loss: 2.7509 - val_accuracy: 0.5500\n",
            "Epoch 6/25\n",
            "12/12 [==============================] - 2s 169ms/step - loss: 1.5107e-04 - accuracy: 1.0000 - val_loss: 2.7366 - val_accuracy: 0.6000\n",
            "Epoch 7/25\n",
            "12/12 [==============================] - 2s 170ms/step - loss: 5.4056e-05 - accuracy: 1.0000 - val_loss: 2.9393 - val_accuracy: 0.5000\n",
            "Epoch 8/25\n",
            "12/12 [==============================] - 2s 169ms/step - loss: 2.5138e-05 - accuracy: 1.0000 - val_loss: 3.0209 - val_accuracy: 0.5000\n",
            "Epoch 9/25\n",
            "12/12 [==============================] - 2s 169ms/step - loss: 1.9048e-05 - accuracy: 1.0000 - val_loss: 3.0659 - val_accuracy: 0.5000\n",
            "Epoch 10/25\n",
            "12/12 [==============================] - 2s 170ms/step - loss: 1.2899e-05 - accuracy: 1.0000 - val_loss: 3.0713 - val_accuracy: 0.5000\n",
            "Epoch 11/25\n",
            "12/12 [==============================] - 2s 171ms/step - loss: 1.0475e-05 - accuracy: 1.0000 - val_loss: 3.0592 - val_accuracy: 0.5000\n",
            "Epoch 12/25\n",
            "12/12 [==============================] - 2s 170ms/step - loss: 7.9616e-06 - accuracy: 1.0000 - val_loss: 3.0608 - val_accuracy: 0.5000\n",
            "Epoch 13/25\n",
            "12/12 [==============================] - 2s 170ms/step - loss: 6.5117e-06 - accuracy: 1.0000 - val_loss: 3.0847 - val_accuracy: 0.5000\n",
            "Epoch 14/25\n",
            "12/12 [==============================] - 2s 170ms/step - loss: 5.5575e-06 - accuracy: 1.0000 - val_loss: 3.0954 - val_accuracy: 0.5000\n",
            "Epoch 15/25\n",
            "12/12 [==============================] - 2s 169ms/step - loss: 5.8820e-06 - accuracy: 1.0000 - val_loss: 3.1056 - val_accuracy: 0.5000\n",
            "Epoch 16/25\n",
            "12/12 [==============================] - 2s 170ms/step - loss: 4.4363e-06 - accuracy: 1.0000 - val_loss: 3.1239 - val_accuracy: 0.4750\n",
            "Epoch 17/25\n",
            "12/12 [==============================] - 2s 169ms/step - loss: 4.0652e-06 - accuracy: 1.0000 - val_loss: 3.1267 - val_accuracy: 0.4750\n",
            "Epoch 18/25\n",
            "12/12 [==============================] - 2s 169ms/step - loss: 3.6633e-06 - accuracy: 1.0000 - val_loss: 3.1130 - val_accuracy: 0.4750\n",
            "Epoch 19/25\n",
            "12/12 [==============================] - 2s 173ms/step - loss: 3.2697e-06 - accuracy: 1.0000 - val_loss: 3.1279 - val_accuracy: 0.4750\n",
            "Epoch 20/25\n",
            "12/12 [==============================] - 2s 172ms/step - loss: 2.8108e-06 - accuracy: 1.0000 - val_loss: 3.1365 - val_accuracy: 0.4750\n",
            "Epoch 21/25\n",
            "12/12 [==============================] - 2s 169ms/step - loss: 2.5397e-06 - accuracy: 1.0000 - val_loss: 3.1396 - val_accuracy: 0.4750\n",
            "Epoch 22/25\n",
            "12/12 [==============================] - 2s 169ms/step - loss: 2.3053e-06 - accuracy: 1.0000 - val_loss: 3.1433 - val_accuracy: 0.4750\n",
            "Epoch 23/25\n",
            "12/12 [==============================] - 2s 169ms/step - loss: 2.1136e-06 - accuracy: 1.0000 - val_loss: 3.1530 - val_accuracy: 0.4750\n",
            "Epoch 24/25\n",
            "12/12 [==============================] - 2s 168ms/step - loss: 1.9215e-06 - accuracy: 1.0000 - val_loss: 3.1662 - val_accuracy: 0.4750\n",
            "Epoch 25/25\n",
            "12/12 [==============================] - 2s 167ms/step - loss: 1.7921e-06 - accuracy: 1.0000 - val_loss: 3.1738 - val_accuracy: 0.4750\n"
          ]
        }
      ]
    },
    {
      "cell_type": "code",
      "source": [
        "history_CNN.history.items()"
      ],
      "metadata": {
        "colab": {
          "base_uri": "https://localhost:8080/"
        },
        "id": "p3Cffq2KfTe7",
        "outputId": "eb438b5f-513a-443a-ce6b-e3c9f376d82d"
      },
      "execution_count": 33,
      "outputs": [
        {
          "output_type": "execute_result",
          "data": {
            "text/plain": [
              "dict_items([('loss', [0.040731627494096756, 0.10978462547063828, 0.04869787395000458, 0.00786349456757307, 0.0006260377704165876, 0.00015107171202544123, 5.405550837167539e-05, 2.513789149816148e-05, 1.9047671230509877e-05, 1.2899175999336876e-05, 1.0474916052771732e-05, 7.961579285620246e-06, 6.511695119115757e-06, 5.557471467909636e-06, 5.881967354071094e-06, 4.436323706613621e-06, 4.065242137585301e-06, 3.663324605440721e-06, 3.2697009828552837e-06, 2.8108472633903148e-06, 2.539682782298769e-06, 2.3052712094795424e-06, 2.1135654151294148e-06, 1.9215249267290346e-06, 1.79205926542636e-06]), ('accuracy', [0.9833333492279053, 0.9722222089767456, 0.980555534362793, 1.0, 1.0, 1.0, 1.0, 1.0, 1.0, 1.0, 1.0, 1.0, 1.0, 1.0, 1.0, 1.0, 1.0, 1.0, 1.0, 1.0, 1.0, 1.0, 1.0, 1.0, 1.0]), ('val_loss', [5.8668951988220215, 2.5400631427764893, 1.7153873443603516, 2.8785336017608643, 2.7509241104125977, 2.736631393432617, 2.9392619132995605, 3.020925521850586, 3.0659189224243164, 3.0713114738464355, 3.059195041656494, 3.0607666969299316, 3.084683656692505, 3.095390558242798, 3.1056268215179443, 3.1239047050476074, 3.1266684532165527, 3.11303973197937, 3.1278553009033203, 3.1365201473236084, 3.139554738998413, 3.143279552459717, 3.1529805660247803, 3.1662211418151855, 3.1737537384033203]), ('val_accuracy', [0.3499999940395355, 0.44999998807907104, 0.5, 0.42500001192092896, 0.550000011920929, 0.6000000238418579, 0.5, 0.5, 0.5, 0.5, 0.5, 0.5, 0.5, 0.5, 0.5, 0.4749999940395355, 0.4749999940395355, 0.4749999940395355, 0.4749999940395355, 0.4749999940395355, 0.4749999940395355, 0.4749999940395355, 0.4749999940395355, 0.4749999940395355, 0.4749999940395355])])"
            ]
          },
          "metadata": {},
          "execution_count": 33
        }
      ]
    },
    {
      "cell_type": "code",
      "source": [
        "keys = ['accuracy', 'val_accuracy']\n",
        "progress = {k:v for k,v in history_CNN.history.items() if k in keys} #returns the training accuracy and validation accuracy as two separate lists,\n",
        "                                                                      #attached with the keys in a dictionary format \n",
        "\n",
        "import pandas as pd\n",
        "pd.DataFrame(progress).plot()\n",
        "\n",
        "plt.xlabel(\"epochs\")\n",
        "plt.ylabel(\"accuracy\")\n",
        "\n",
        "plt.grid(True)\n",
        "plt.show()"
      ],
      "metadata": {
        "colab": {
          "base_uri": "https://localhost:8080/",
          "height": 279
        },
        "id": "FIzPHvaIff5U",
        "outputId": "cbacdc9e-0b5f-45d6-d5d6-44c77a4a7dba"
      },
      "execution_count": 34,
      "outputs": [
        {
          "output_type": "display_data",
          "data": {
            "text/plain": [
              "<Figure size 432x288 with 1 Axes>"
            ],
            "image/png": "[encoded data removed]"
          },
          "metadata": {
            "needs_background": "light"
          }
        }
      ]
    },
    {
      "cell_type": "code",
      "source": [
        "#Evaluate the model\n",
        "# Pass the appropriate arguments for evaluate function.\n",
        "test_loss, test_accuracy = model_CNN.evaluate(x_test_std, y_test)\n",
        "\n",
        "print(\"Test-loss: %f, Test-accuracy: %f\" % (test_loss,  test_accuracy))"
      ],
      "metadata": {
        "colab": {
          "base_uri": "https://localhost:8080/"
        },
        "id": "1-sGU5_gfq7a",
        "outputId": "1bc41d42-3383-44d5-a000-de057a419f63"
      },
      "execution_count": 36,
      "outputs": [
        {
          "output_type": "stream",
          "name": "stdout",
          "text": [
            "4/4 [==============================] - 0s 86ms/step - loss: 3.7407 - accuracy: 0.4800\n",
            "Test-loss: 3.740728, Test-accuracy: 0.480000\n"
          ]
        }
      ]
    },
    {
      "cell_type": "code",
      "source": [
        "cProba = model_CNN.predict(x_test_std[:10])\n",
        "\n",
        "print(cProba)"
      ],
      "metadata": {
        "colab": {
          "base_uri": "https://localhost:8080/"
        },
        "id": "on4EMOCDf6vq",
        "outputId": "8d9614d9-e2f0-441c-8e23-df4211636d7b"
      },
      "execution_count": 38,
      "outputs": [
        {
          "output_type": "stream",
          "name": "stdout",
          "text": [
            "1/1 [==============================] - 0s 325ms/step\n",
            "[[9.7912461e-01 2.7268610e-05 6.9480797e-05 2.0356899e-02 4.2166695e-04]\n",
            " [7.2273219e-01 2.0483710e-01 7.0350051e-02 2.0390505e-03 4.1599902e-05]\n",
            " [1.2839202e-21 1.3733187e-25 8.6737638e-03 1.1641198e-19 9.9132627e-01]\n",
            " [1.1618540e-04 9.1195367e-03 6.1581510e-01 2.2994379e-06 3.7494689e-01]\n",
            " [6.9583368e-01 3.0201218e-01 6.4375357e-08 2.1539882e-03 1.1479716e-07]\n",
            " [3.5002280e-02 7.6787814e-02 2.0196219e-01 5.3471092e-02 6.3277662e-01]\n",
            " [7.2229587e-09 9.1414464e-01 2.4163465e-11 8.5854851e-02 5.5899937e-07]\n",
            " [3.1839125e-11 1.1429023e-11 9.8630929e-01 3.8336280e-16 1.3690649e-02]\n",
            " [3.9300130e-04 9.4744766e-01 1.3127963e-08 5.2158296e-02 1.0347378e-06]\n",
            " [9.4619298e-07 1.5665526e-05 9.7097045e-01 7.2203257e-11 2.9012877e-02]]\n"
          ]
        }
      ]
    },
    {
      "cell_type": "code",
      "source": [
        "#cLabel = np.argmax(cProba,axis=-1) \n",
        "\n",
        "print(cLabel)"
      ],
      "metadata": {
        "colab": {
          "base_uri": "https://localhost:8080/",
          "height": 200
        },
        "id": "UVPZJHPNgHJb",
        "outputId": "800aa3f3-7390-4f5f-8280-e32b29fdc6ea"
      },
      "execution_count": 1,
      "outputs": [
        {
          "output_type": "error",
          "ename": "NameError",
          "evalue": "ignored",
          "traceback": [
            "\u001b[0;31m---------------------------------------------------------------------------\u001b[0m",
            "\u001b[0;31mNameError\u001b[0m                                 Traceback (most recent call last)",
            "\u001b[0;32m<ipython-input-1-6b8d486790f4>\u001b[0m in \u001b[0;36m<module>\u001b[0;34m\u001b[0m\n\u001b[0;32m----> 1\u001b[0;31m \u001b[0mcLabel\u001b[0m \u001b[0;34m=\u001b[0m \u001b[0mnp\u001b[0m\u001b[0;34m.\u001b[0m\u001b[0margmax\u001b[0m\u001b[0;34m(\u001b[0m\u001b[0mcProba\u001b[0m\u001b[0;34m,\u001b[0m\u001b[0maxis\u001b[0m\u001b[0;34m=\u001b[0m\u001b[0;34m-\u001b[0m\u001b[0;36m1\u001b[0m\u001b[0;34m)\u001b[0m\u001b[0;34m\u001b[0m\u001b[0;34m\u001b[0m\u001b[0m\n\u001b[0m\u001b[1;32m      2\u001b[0m \u001b[0;34m\u001b[0m\u001b[0m\n\u001b[1;32m      3\u001b[0m \u001b[0mprint\u001b[0m\u001b[0;34m(\u001b[0m\u001b[0mcLabel\u001b[0m\u001b[0;34m)\u001b[0m\u001b[0;34m\u001b[0m\u001b[0;34m\u001b[0m\u001b[0m\n",
            "\u001b[0;31mNameError\u001b[0m: name 'np' is not defined"
          ]
        }
      ]
    }
  ]
}